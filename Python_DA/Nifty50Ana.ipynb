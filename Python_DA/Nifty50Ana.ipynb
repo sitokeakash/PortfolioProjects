{
 "cells": [
  {
   "cell_type": "code",
   "execution_count": 1,
   "metadata": {},
   "outputs": [
    {
     "ename": "FileNotFoundError",
     "evalue": "[Errno 2] File C:/Users/Akash Sitoke/Desktop/NiftyDS/NIFTY_50.csv does not exist: 'C:/Users/Akash Sitoke/Desktop/NiftyDS/NIFTY_50.csv'",
     "output_type": "error",
     "traceback": [
      "\u001b[1;31m---------------------------------------------------------------------------\u001b[0m",
      "\u001b[1;31mFileNotFoundError\u001b[0m                         Traceback (most recent call last)",
      "\u001b[1;32m<ipython-input-1-b1dee1260c09>\u001b[0m in \u001b[0;36m<module>\u001b[1;34m\u001b[0m\n\u001b[0;32m      3\u001b[0m \u001b[1;32mimport\u001b[0m \u001b[0mnumpy\u001b[0m \u001b[1;32mas\u001b[0m \u001b[0mnp\u001b[0m\u001b[1;33m\u001b[0m\u001b[1;33m\u001b[0m\u001b[0m\n\u001b[0;32m      4\u001b[0m \u001b[0mdf_filepath\u001b[0m \u001b[1;33m=\u001b[0m \u001b[1;34m\"C:/Users/Akash Sitoke/Desktop/NiftyDS/NIFTY_50.csv\"\u001b[0m\u001b[1;33m\u001b[0m\u001b[1;33m\u001b[0m\u001b[0m\n\u001b[1;32m----> 5\u001b[1;33m \u001b[0mdf_data\u001b[0m \u001b[1;33m=\u001b[0m \u001b[0mpd\u001b[0m\u001b[1;33m.\u001b[0m\u001b[0mread_csv\u001b[0m\u001b[1;33m(\u001b[0m\u001b[0mdf_filepath\u001b[0m\u001b[1;33m)\u001b[0m\u001b[1;33m\u001b[0m\u001b[1;33m\u001b[0m\u001b[0m\n\u001b[0m\u001b[0;32m      6\u001b[0m \u001b[0mdf_data\u001b[0m\u001b[1;33m.\u001b[0m\u001b[0mhead\u001b[0m\u001b[1;33m(\u001b[0m\u001b[1;33m)\u001b[0m\u001b[1;33m\u001b[0m\u001b[1;33m\u001b[0m\u001b[0m\n",
      "\u001b[1;32mc:\\users\\akash sitoke\\appdata\\local\\programs\\python\\python38\\lib\\site-packages\\pandas\\io\\parsers.py\u001b[0m in \u001b[0;36mparser_f\u001b[1;34m(filepath_or_buffer, sep, delimiter, header, names, index_col, usecols, squeeze, prefix, mangle_dupe_cols, dtype, engine, converters, true_values, false_values, skipinitialspace, skiprows, skipfooter, nrows, na_values, keep_default_na, na_filter, verbose, skip_blank_lines, parse_dates, infer_datetime_format, keep_date_col, date_parser, dayfirst, cache_dates, iterator, chunksize, compression, thousands, decimal, lineterminator, quotechar, quoting, doublequote, escapechar, comment, encoding, dialect, error_bad_lines, warn_bad_lines, delim_whitespace, low_memory, memory_map, float_precision)\u001b[0m\n\u001b[0;32m    674\u001b[0m         )\n\u001b[0;32m    675\u001b[0m \u001b[1;33m\u001b[0m\u001b[0m\n\u001b[1;32m--> 676\u001b[1;33m         \u001b[1;32mreturn\u001b[0m \u001b[0m_read\u001b[0m\u001b[1;33m(\u001b[0m\u001b[0mfilepath_or_buffer\u001b[0m\u001b[1;33m,\u001b[0m \u001b[0mkwds\u001b[0m\u001b[1;33m)\u001b[0m\u001b[1;33m\u001b[0m\u001b[1;33m\u001b[0m\u001b[0m\n\u001b[0m\u001b[0;32m    677\u001b[0m \u001b[1;33m\u001b[0m\u001b[0m\n\u001b[0;32m    678\u001b[0m     \u001b[0mparser_f\u001b[0m\u001b[1;33m.\u001b[0m\u001b[0m__name__\u001b[0m \u001b[1;33m=\u001b[0m \u001b[0mname\u001b[0m\u001b[1;33m\u001b[0m\u001b[1;33m\u001b[0m\u001b[0m\n",
      "\u001b[1;32mc:\\users\\akash sitoke\\appdata\\local\\programs\\python\\python38\\lib\\site-packages\\pandas\\io\\parsers.py\u001b[0m in \u001b[0;36m_read\u001b[1;34m(filepath_or_buffer, kwds)\u001b[0m\n\u001b[0;32m    446\u001b[0m \u001b[1;33m\u001b[0m\u001b[0m\n\u001b[0;32m    447\u001b[0m     \u001b[1;31m# Create the parser.\u001b[0m\u001b[1;33m\u001b[0m\u001b[1;33m\u001b[0m\u001b[1;33m\u001b[0m\u001b[0m\n\u001b[1;32m--> 448\u001b[1;33m     \u001b[0mparser\u001b[0m \u001b[1;33m=\u001b[0m \u001b[0mTextFileReader\u001b[0m\u001b[1;33m(\u001b[0m\u001b[0mfp_or_buf\u001b[0m\u001b[1;33m,\u001b[0m \u001b[1;33m**\u001b[0m\u001b[0mkwds\u001b[0m\u001b[1;33m)\u001b[0m\u001b[1;33m\u001b[0m\u001b[1;33m\u001b[0m\u001b[0m\n\u001b[0m\u001b[0;32m    449\u001b[0m \u001b[1;33m\u001b[0m\u001b[0m\n\u001b[0;32m    450\u001b[0m     \u001b[1;32mif\u001b[0m \u001b[0mchunksize\u001b[0m \u001b[1;32mor\u001b[0m \u001b[0miterator\u001b[0m\u001b[1;33m:\u001b[0m\u001b[1;33m\u001b[0m\u001b[1;33m\u001b[0m\u001b[0m\n",
      "\u001b[1;32mc:\\users\\akash sitoke\\appdata\\local\\programs\\python\\python38\\lib\\site-packages\\pandas\\io\\parsers.py\u001b[0m in \u001b[0;36m__init__\u001b[1;34m(self, f, engine, **kwds)\u001b[0m\n\u001b[0;32m    878\u001b[0m             \u001b[0mself\u001b[0m\u001b[1;33m.\u001b[0m\u001b[0moptions\u001b[0m\u001b[1;33m[\u001b[0m\u001b[1;34m\"has_index_names\"\u001b[0m\u001b[1;33m]\u001b[0m \u001b[1;33m=\u001b[0m \u001b[0mkwds\u001b[0m\u001b[1;33m[\u001b[0m\u001b[1;34m\"has_index_names\"\u001b[0m\u001b[1;33m]\u001b[0m\u001b[1;33m\u001b[0m\u001b[1;33m\u001b[0m\u001b[0m\n\u001b[0;32m    879\u001b[0m \u001b[1;33m\u001b[0m\u001b[0m\n\u001b[1;32m--> 880\u001b[1;33m         \u001b[0mself\u001b[0m\u001b[1;33m.\u001b[0m\u001b[0m_make_engine\u001b[0m\u001b[1;33m(\u001b[0m\u001b[0mself\u001b[0m\u001b[1;33m.\u001b[0m\u001b[0mengine\u001b[0m\u001b[1;33m)\u001b[0m\u001b[1;33m\u001b[0m\u001b[1;33m\u001b[0m\u001b[0m\n\u001b[0m\u001b[0;32m    881\u001b[0m \u001b[1;33m\u001b[0m\u001b[0m\n\u001b[0;32m    882\u001b[0m     \u001b[1;32mdef\u001b[0m \u001b[0mclose\u001b[0m\u001b[1;33m(\u001b[0m\u001b[0mself\u001b[0m\u001b[1;33m)\u001b[0m\u001b[1;33m:\u001b[0m\u001b[1;33m\u001b[0m\u001b[1;33m\u001b[0m\u001b[0m\n",
      "\u001b[1;32mc:\\users\\akash sitoke\\appdata\\local\\programs\\python\\python38\\lib\\site-packages\\pandas\\io\\parsers.py\u001b[0m in \u001b[0;36m_make_engine\u001b[1;34m(self, engine)\u001b[0m\n\u001b[0;32m   1112\u001b[0m     \u001b[1;32mdef\u001b[0m \u001b[0m_make_engine\u001b[0m\u001b[1;33m(\u001b[0m\u001b[0mself\u001b[0m\u001b[1;33m,\u001b[0m \u001b[0mengine\u001b[0m\u001b[1;33m=\u001b[0m\u001b[1;34m\"c\"\u001b[0m\u001b[1;33m)\u001b[0m\u001b[1;33m:\u001b[0m\u001b[1;33m\u001b[0m\u001b[1;33m\u001b[0m\u001b[0m\n\u001b[0;32m   1113\u001b[0m         \u001b[1;32mif\u001b[0m \u001b[0mengine\u001b[0m \u001b[1;33m==\u001b[0m \u001b[1;34m\"c\"\u001b[0m\u001b[1;33m:\u001b[0m\u001b[1;33m\u001b[0m\u001b[1;33m\u001b[0m\u001b[0m\n\u001b[1;32m-> 1114\u001b[1;33m             \u001b[0mself\u001b[0m\u001b[1;33m.\u001b[0m\u001b[0m_engine\u001b[0m \u001b[1;33m=\u001b[0m \u001b[0mCParserWrapper\u001b[0m\u001b[1;33m(\u001b[0m\u001b[0mself\u001b[0m\u001b[1;33m.\u001b[0m\u001b[0mf\u001b[0m\u001b[1;33m,\u001b[0m \u001b[1;33m**\u001b[0m\u001b[0mself\u001b[0m\u001b[1;33m.\u001b[0m\u001b[0moptions\u001b[0m\u001b[1;33m)\u001b[0m\u001b[1;33m\u001b[0m\u001b[1;33m\u001b[0m\u001b[0m\n\u001b[0m\u001b[0;32m   1115\u001b[0m         \u001b[1;32melse\u001b[0m\u001b[1;33m:\u001b[0m\u001b[1;33m\u001b[0m\u001b[1;33m\u001b[0m\u001b[0m\n\u001b[0;32m   1116\u001b[0m             \u001b[1;32mif\u001b[0m \u001b[0mengine\u001b[0m \u001b[1;33m==\u001b[0m \u001b[1;34m\"python\"\u001b[0m\u001b[1;33m:\u001b[0m\u001b[1;33m\u001b[0m\u001b[1;33m\u001b[0m\u001b[0m\n",
      "\u001b[1;32mc:\\users\\akash sitoke\\appdata\\local\\programs\\python\\python38\\lib\\site-packages\\pandas\\io\\parsers.py\u001b[0m in \u001b[0;36m__init__\u001b[1;34m(self, src, **kwds)\u001b[0m\n\u001b[0;32m   1889\u001b[0m         \u001b[0mkwds\u001b[0m\u001b[1;33m[\u001b[0m\u001b[1;34m\"usecols\"\u001b[0m\u001b[1;33m]\u001b[0m \u001b[1;33m=\u001b[0m \u001b[0mself\u001b[0m\u001b[1;33m.\u001b[0m\u001b[0musecols\u001b[0m\u001b[1;33m\u001b[0m\u001b[1;33m\u001b[0m\u001b[0m\n\u001b[0;32m   1890\u001b[0m \u001b[1;33m\u001b[0m\u001b[0m\n\u001b[1;32m-> 1891\u001b[1;33m         \u001b[0mself\u001b[0m\u001b[1;33m.\u001b[0m\u001b[0m_reader\u001b[0m \u001b[1;33m=\u001b[0m \u001b[0mparsers\u001b[0m\u001b[1;33m.\u001b[0m\u001b[0mTextReader\u001b[0m\u001b[1;33m(\u001b[0m\u001b[0msrc\u001b[0m\u001b[1;33m,\u001b[0m \u001b[1;33m**\u001b[0m\u001b[0mkwds\u001b[0m\u001b[1;33m)\u001b[0m\u001b[1;33m\u001b[0m\u001b[1;33m\u001b[0m\u001b[0m\n\u001b[0m\u001b[0;32m   1892\u001b[0m         \u001b[0mself\u001b[0m\u001b[1;33m.\u001b[0m\u001b[0munnamed_cols\u001b[0m \u001b[1;33m=\u001b[0m \u001b[0mself\u001b[0m\u001b[1;33m.\u001b[0m\u001b[0m_reader\u001b[0m\u001b[1;33m.\u001b[0m\u001b[0munnamed_cols\u001b[0m\u001b[1;33m\u001b[0m\u001b[1;33m\u001b[0m\u001b[0m\n\u001b[0;32m   1893\u001b[0m \u001b[1;33m\u001b[0m\u001b[0m\n",
      "\u001b[1;32mpandas\\_libs\\parsers.pyx\u001b[0m in \u001b[0;36mpandas._libs.parsers.TextReader.__cinit__\u001b[1;34m()\u001b[0m\n",
      "\u001b[1;32mpandas\\_libs\\parsers.pyx\u001b[0m in \u001b[0;36mpandas._libs.parsers.TextReader._setup_parser_source\u001b[1;34m()\u001b[0m\n",
      "\u001b[1;31mFileNotFoundError\u001b[0m: [Errno 2] File C:/Users/Akash Sitoke/Desktop/NiftyDS/NIFTY_50.csv does not exist: 'C:/Users/Akash Sitoke/Desktop/NiftyDS/NIFTY_50.csv'"
     ]
    }
   ],
   "source": [
    "#Loading file data\n",
    "import pandas as pd\n",
    "import numpy as np\n",
    "df_filepath = \"C:/Users/Akash Sitoke/Desktop/NiftyDS/NIFTY_50.csv\"\n",
    "df_data = pd.read_csv(df_filepath)\n",
    "df_data.head()"
   ]
  },
  {
   "cell_type": "code",
   "execution_count": 64,
   "metadata": {},
   "outputs": [
    {
     "data": {
      "text/plain": [
       "Index(['Date', 'Open', 'High', 'Low', 'Close', 'Volume', 'Turnover', 'P/E',\n",
       "       'P/B', 'Div Yield'],\n",
       "      dtype='object')"
      ]
     },
     "execution_count": 64,
     "metadata": {},
     "output_type": "execute_result"
    }
   ],
   "source": [
    "#Features of data\n",
    "df_data.columns"
   ]
  },
  {
   "cell_type": "code",
   "execution_count": 65,
   "metadata": {},
   "outputs": [
    {
     "data": {
      "text/html": [
       "<div>\n",
       "<style scoped>\n",
       "    .dataframe tbody tr th:only-of-type {\n",
       "        vertical-align: middle;\n",
       "    }\n",
       "\n",
       "    .dataframe tbody tr th {\n",
       "        vertical-align: top;\n",
       "    }\n",
       "\n",
       "    .dataframe thead th {\n",
       "        text-align: right;\n",
       "    }\n",
       "</style>\n",
       "<table border=\"1\" class=\"dataframe\">\n",
       "  <thead>\n",
       "    <tr style=\"text-align: right;\">\n",
       "      <th></th>\n",
       "      <th>Open</th>\n",
       "      <th>High</th>\n",
       "      <th>Low</th>\n",
       "      <th>Close</th>\n",
       "      <th>Volume</th>\n",
       "      <th>Turnover</th>\n",
       "      <th>P/E</th>\n",
       "      <th>P/B</th>\n",
       "      <th>Div Yield</th>\n",
       "    </tr>\n",
       "  </thead>\n",
       "  <tbody>\n",
       "    <tr>\n",
       "      <th>count</th>\n",
       "      <td>5061.000000</td>\n",
       "      <td>5061.000000</td>\n",
       "      <td>5061.000000</td>\n",
       "      <td>5061.000000</td>\n",
       "      <td>5.060000e+03</td>\n",
       "      <td>5.060000e+03</td>\n",
       "      <td>5061.000000</td>\n",
       "      <td>5061.000000</td>\n",
       "      <td>5061.000000</td>\n",
       "    </tr>\n",
       "    <tr>\n",
       "      <th>mean</th>\n",
       "      <td>5216.237977</td>\n",
       "      <td>5251.466667</td>\n",
       "      <td>5174.455009</td>\n",
       "      <td>5213.433768</td>\n",
       "      <td>1.664416e+08</td>\n",
       "      <td>6.826187e+10</td>\n",
       "      <td>20.037014</td>\n",
       "      <td>3.547459</td>\n",
       "      <td>1.428164</td>\n",
       "    </tr>\n",
       "    <tr>\n",
       "      <th>std</th>\n",
       "      <td>3274.529979</td>\n",
       "      <td>3283.745772</td>\n",
       "      <td>3257.303609</td>\n",
       "      <td>3270.073955</td>\n",
       "      <td>1.419567e+08</td>\n",
       "      <td>5.482144e+10</td>\n",
       "      <td>4.194021</td>\n",
       "      <td>0.799204</td>\n",
       "      <td>0.402380</td>\n",
       "    </tr>\n",
       "    <tr>\n",
       "      <th>min</th>\n",
       "      <td>853.000000</td>\n",
       "      <td>877.000000</td>\n",
       "      <td>849.950000</td>\n",
       "      <td>854.200000</td>\n",
       "      <td>1.394931e+06</td>\n",
       "      <td>4.012000e+08</td>\n",
       "      <td>10.680000</td>\n",
       "      <td>1.920000</td>\n",
       "      <td>0.590000</td>\n",
       "    </tr>\n",
       "    <tr>\n",
       "      <th>25%</th>\n",
       "      <td>1983.200000</td>\n",
       "      <td>1999.700000</td>\n",
       "      <td>1964.650000</td>\n",
       "      <td>1982.750000</td>\n",
       "      <td>7.772303e+07</td>\n",
       "      <td>3.017642e+10</td>\n",
       "      <td>17.110000</td>\n",
       "      <td>3.030000</td>\n",
       "      <td>1.180000</td>\n",
       "    </tr>\n",
       "    <tr>\n",
       "      <th>50%</th>\n",
       "      <td>5096.700000</td>\n",
       "      <td>5135.550000</td>\n",
       "      <td>5038.850000</td>\n",
       "      <td>5090.850000</td>\n",
       "      <td>1.370860e+08</td>\n",
       "      <td>5.793170e+10</td>\n",
       "      <td>20.090000</td>\n",
       "      <td>3.470000</td>\n",
       "      <td>1.330000</td>\n",
       "    </tr>\n",
       "    <tr>\n",
       "      <th>75%</th>\n",
       "      <td>7895.400000</td>\n",
       "      <td>7929.100000</td>\n",
       "      <td>7837.700000</td>\n",
       "      <td>7887.800000</td>\n",
       "      <td>1.983021e+08</td>\n",
       "      <td>8.493517e+10</td>\n",
       "      <td>22.860000</td>\n",
       "      <td>3.790000</td>\n",
       "      <td>1.550000</td>\n",
       "    </tr>\n",
       "    <tr>\n",
       "      <th>max</th>\n",
       "      <td>12430.500000</td>\n",
       "      <td>12430.500000</td>\n",
       "      <td>12321.400000</td>\n",
       "      <td>12362.300000</td>\n",
       "      <td>1.811564e+09</td>\n",
       "      <td>5.970553e+11</td>\n",
       "      <td>29.900000</td>\n",
       "      <td>6.550000</td>\n",
       "      <td>3.180000</td>\n",
       "    </tr>\n",
       "  </tbody>\n",
       "</table>\n",
       "</div>"
      ],
      "text/plain": [
       "               Open          High           Low         Close        Volume  \\\n",
       "count   5061.000000   5061.000000   5061.000000   5061.000000  5.060000e+03   \n",
       "mean    5216.237977   5251.466667   5174.455009   5213.433768  1.664416e+08   \n",
       "std     3274.529979   3283.745772   3257.303609   3270.073955  1.419567e+08   \n",
       "min      853.000000    877.000000    849.950000    854.200000  1.394931e+06   \n",
       "25%     1983.200000   1999.700000   1964.650000   1982.750000  7.772303e+07   \n",
       "50%     5096.700000   5135.550000   5038.850000   5090.850000  1.370860e+08   \n",
       "75%     7895.400000   7929.100000   7837.700000   7887.800000  1.983021e+08   \n",
       "max    12430.500000  12430.500000  12321.400000  12362.300000  1.811564e+09   \n",
       "\n",
       "           Turnover          P/E          P/B    Div Yield  \n",
       "count  5.060000e+03  5061.000000  5061.000000  5061.000000  \n",
       "mean   6.826187e+10    20.037014     3.547459     1.428164  \n",
       "std    5.482144e+10     4.194021     0.799204     0.402380  \n",
       "min    4.012000e+08    10.680000     1.920000     0.590000  \n",
       "25%    3.017642e+10    17.110000     3.030000     1.180000  \n",
       "50%    5.793170e+10    20.090000     3.470000     1.330000  \n",
       "75%    8.493517e+10    22.860000     3.790000     1.550000  \n",
       "max    5.970553e+11    29.900000     6.550000     3.180000  "
      ]
     },
     "execution_count": 65,
     "metadata": {},
     "output_type": "execute_result"
    }
   ],
   "source": [
    "#viewing the data's mean \n",
    "df_data.describe()"
   ]
  },
  {
   "cell_type": "code",
   "execution_count": 66,
   "metadata": {},
   "outputs": [
    {
     "data": {
      "text/plain": [
       "Date          object\n",
       "Open         float64\n",
       "High         float64\n",
       "Low          float64\n",
       "Close        float64\n",
       "Volume       float64\n",
       "Turnover     float64\n",
       "P/E          float64\n",
       "P/B          float64\n",
       "Div Yield    float64\n",
       "dtype: object"
      ]
     },
     "execution_count": 66,
     "metadata": {},
     "output_type": "execute_result"
    }
   ],
   "source": [
    "#Data types of the Features\n",
    "df_data.dtypes"
   ]
  },
  {
   "cell_type": "code",
   "execution_count": 67,
   "metadata": {},
   "outputs": [
    {
     "data": {
      "text/html": [
       "<div>\n",
       "<style scoped>\n",
       "    .dataframe tbody tr th:only-of-type {\n",
       "        vertical-align: middle;\n",
       "    }\n",
       "\n",
       "    .dataframe tbody tr th {\n",
       "        vertical-align: top;\n",
       "    }\n",
       "\n",
       "    .dataframe thead th {\n",
       "        text-align: right;\n",
       "    }\n",
       "</style>\n",
       "<table border=\"1\" class=\"dataframe\">\n",
       "  <thead>\n",
       "    <tr style=\"text-align: right;\">\n",
       "      <th></th>\n",
       "      <th>Date</th>\n",
       "      <th>Open</th>\n",
       "      <th>High</th>\n",
       "      <th>Low</th>\n",
       "      <th>Close</th>\n",
       "      <th>Volume</th>\n",
       "      <th>Turnover</th>\n",
       "      <th>P/E</th>\n",
       "      <th>P/B</th>\n",
       "      <th>Div Yield</th>\n",
       "    </tr>\n",
       "  </thead>\n",
       "  <tbody>\n",
       "    <tr>\n",
       "      <th>0</th>\n",
       "      <td>False</td>\n",
       "      <td>False</td>\n",
       "      <td>False</td>\n",
       "      <td>False</td>\n",
       "      <td>False</td>\n",
       "      <td>False</td>\n",
       "      <td>False</td>\n",
       "      <td>False</td>\n",
       "      <td>False</td>\n",
       "      <td>False</td>\n",
       "    </tr>\n",
       "    <tr>\n",
       "      <th>1</th>\n",
       "      <td>False</td>\n",
       "      <td>False</td>\n",
       "      <td>False</td>\n",
       "      <td>False</td>\n",
       "      <td>False</td>\n",
       "      <td>False</td>\n",
       "      <td>False</td>\n",
       "      <td>False</td>\n",
       "      <td>False</td>\n",
       "      <td>False</td>\n",
       "    </tr>\n",
       "    <tr>\n",
       "      <th>2</th>\n",
       "      <td>False</td>\n",
       "      <td>False</td>\n",
       "      <td>False</td>\n",
       "      <td>False</td>\n",
       "      <td>False</td>\n",
       "      <td>False</td>\n",
       "      <td>False</td>\n",
       "      <td>False</td>\n",
       "      <td>False</td>\n",
       "      <td>False</td>\n",
       "    </tr>\n",
       "    <tr>\n",
       "      <th>3</th>\n",
       "      <td>False</td>\n",
       "      <td>False</td>\n",
       "      <td>False</td>\n",
       "      <td>False</td>\n",
       "      <td>False</td>\n",
       "      <td>False</td>\n",
       "      <td>False</td>\n",
       "      <td>False</td>\n",
       "      <td>False</td>\n",
       "      <td>False</td>\n",
       "    </tr>\n",
       "    <tr>\n",
       "      <th>4</th>\n",
       "      <td>False</td>\n",
       "      <td>False</td>\n",
       "      <td>False</td>\n",
       "      <td>False</td>\n",
       "      <td>False</td>\n",
       "      <td>False</td>\n",
       "      <td>False</td>\n",
       "      <td>False</td>\n",
       "      <td>False</td>\n",
       "      <td>False</td>\n",
       "    </tr>\n",
       "  </tbody>\n",
       "</table>\n",
       "</div>"
      ],
      "text/plain": [
       "    Date   Open   High    Low  Close  Volume  Turnover    P/E    P/B  \\\n",
       "0  False  False  False  False  False   False     False  False  False   \n",
       "1  False  False  False  False  False   False     False  False  False   \n",
       "2  False  False  False  False  False   False     False  False  False   \n",
       "3  False  False  False  False  False   False     False  False  False   \n",
       "4  False  False  False  False  False   False     False  False  False   \n",
       "\n",
       "   Div Yield  \n",
       "0      False  \n",
       "1      False  \n",
       "2      False  \n",
       "3      False  \n",
       "4      False  "
      ]
     },
     "execution_count": 67,
     "metadata": {},
     "output_type": "execute_result"
    }
   ],
   "source": [
    "#Identifying the missing data\n",
    "missing_data = df_data.isnull()\n",
    "missing_data.head(5)\n",
    "#df_data.isnull()"
   ]
  },
  {
   "cell_type": "code",
   "execution_count": 68,
   "metadata": {},
   "outputs": [
    {
     "name": "stdout",
     "output_type": "stream",
     "text": [
      "Date\n",
      "False    5061\n",
      "Name: Date, dtype: int64\n",
      "\n",
      "Open\n",
      "False    5061\n",
      "Name: Open, dtype: int64\n",
      "\n",
      "High\n",
      "False    5061\n",
      "Name: High, dtype: int64\n",
      "\n",
      "Low\n",
      "False    5061\n",
      "Name: Low, dtype: int64\n",
      "\n",
      "Close\n",
      "False    5061\n",
      "Name: Close, dtype: int64\n",
      "\n",
      "Volume\n",
      "False    5060\n",
      "True        1\n",
      "Name: Volume, dtype: int64\n",
      "\n",
      "Turnover\n",
      "False    5060\n",
      "True        1\n",
      "Name: Turnover, dtype: int64\n",
      "\n",
      "P/E\n",
      "False    5061\n",
      "Name: P/E, dtype: int64\n",
      "\n",
      "P/B\n",
      "False    5061\n",
      "Name: P/B, dtype: int64\n",
      "\n",
      "Div Yield\n",
      "False    5061\n",
      "Name: Div Yield, dtype: int64\n",
      "\n"
     ]
    }
   ],
   "source": [
    "#Identifying the number of missing data in all columns \n",
    "for column in missing_data.columns.values.tolist():\n",
    "    print(column)\n",
    "    print (missing_data[column].value_counts())\n",
    "    print(\"\") "
   ]
  },
  {
   "cell_type": "code",
   "execution_count": null,
   "metadata": {},
   "outputs": [],
   "source": [
    "#True means data is missing and false means data is not missing\n",
    "#so data is missing in Volume and Turnover\n",
    "#we will deal with the missing data by taking the average value of both th columns"
   ]
  },
  {
   "cell_type": "code",
   "execution_count": 69,
   "metadata": {},
   "outputs": [
    {
     "name": "stdout",
     "output_type": "stream",
     "text": [
      "Average Volume: 166441646.00790513\n"
     ]
    }
   ],
   "source": [
    "#Averaging the volume\n",
    "avg_vol = df_data[\"Volume\"].astype(\"float\").mean(axis=0)\n",
    "print(\"Average Volume:\", avg_vol)"
   ]
  },
  {
   "cell_type": "code",
   "execution_count": 70,
   "metadata": {},
   "outputs": [
    {
     "name": "stdout",
     "output_type": "stream",
     "text": [
      "Average Turnover: 68261867766.798416\n"
     ]
    }
   ],
   "source": [
    "#Averaging the Turnover\n",
    "avg_tur = df_data[\"Turnover\"].astype(\"float\").mean(axis=0)\n",
    "print(\"Average Turnover:\", avg_tur)"
   ]
  },
  {
   "cell_type": "code",
   "execution_count": 71,
   "metadata": {},
   "outputs": [],
   "source": [
    "#Replacing the missing or nan value by the average value in volume column\n",
    "df_data[\"Volume\"].replace(np.nan, avg_vol, inplace=True)"
   ]
  },
  {
   "cell_type": "code",
   "execution_count": 72,
   "metadata": {},
   "outputs": [],
   "source": [
    "#Replacing the missing or nan value by the average value in turnover column\n",
    "df_data[\"Turnover\"].replace(np.nan, avg_tur, inplace=True)"
   ]
  },
  {
   "cell_type": "code",
   "execution_count": 73,
   "metadata": {},
   "outputs": [
    {
     "data": {
      "text/html": [
       "<div>\n",
       "<style scoped>\n",
       "    .dataframe tbody tr th:only-of-type {\n",
       "        vertical-align: middle;\n",
       "    }\n",
       "\n",
       "    .dataframe tbody tr th {\n",
       "        vertical-align: top;\n",
       "    }\n",
       "\n",
       "    .dataframe thead th {\n",
       "        text-align: right;\n",
       "    }\n",
       "</style>\n",
       "<table border=\"1\" class=\"dataframe\">\n",
       "  <thead>\n",
       "    <tr style=\"text-align: right;\">\n",
       "      <th></th>\n",
       "      <th>Date</th>\n",
       "      <th>Open</th>\n",
       "      <th>High</th>\n",
       "      <th>Low</th>\n",
       "      <th>Close</th>\n",
       "      <th>Volume</th>\n",
       "      <th>Turnover</th>\n",
       "      <th>P/E</th>\n",
       "      <th>P/B</th>\n",
       "      <th>Div Yield</th>\n",
       "    </tr>\n",
       "  </thead>\n",
       "  <tbody>\n",
       "    <tr>\n",
       "      <th>0</th>\n",
       "      <td>False</td>\n",
       "      <td>False</td>\n",
       "      <td>False</td>\n",
       "      <td>False</td>\n",
       "      <td>False</td>\n",
       "      <td>False</td>\n",
       "      <td>False</td>\n",
       "      <td>False</td>\n",
       "      <td>False</td>\n",
       "      <td>False</td>\n",
       "    </tr>\n",
       "    <tr>\n",
       "      <th>1</th>\n",
       "      <td>False</td>\n",
       "      <td>False</td>\n",
       "      <td>False</td>\n",
       "      <td>False</td>\n",
       "      <td>False</td>\n",
       "      <td>False</td>\n",
       "      <td>False</td>\n",
       "      <td>False</td>\n",
       "      <td>False</td>\n",
       "      <td>False</td>\n",
       "    </tr>\n",
       "    <tr>\n",
       "      <th>2</th>\n",
       "      <td>False</td>\n",
       "      <td>False</td>\n",
       "      <td>False</td>\n",
       "      <td>False</td>\n",
       "      <td>False</td>\n",
       "      <td>False</td>\n",
       "      <td>False</td>\n",
       "      <td>False</td>\n",
       "      <td>False</td>\n",
       "      <td>False</td>\n",
       "    </tr>\n",
       "    <tr>\n",
       "      <th>3</th>\n",
       "      <td>False</td>\n",
       "      <td>False</td>\n",
       "      <td>False</td>\n",
       "      <td>False</td>\n",
       "      <td>False</td>\n",
       "      <td>False</td>\n",
       "      <td>False</td>\n",
       "      <td>False</td>\n",
       "      <td>False</td>\n",
       "      <td>False</td>\n",
       "    </tr>\n",
       "    <tr>\n",
       "      <th>4</th>\n",
       "      <td>False</td>\n",
       "      <td>False</td>\n",
       "      <td>False</td>\n",
       "      <td>False</td>\n",
       "      <td>False</td>\n",
       "      <td>False</td>\n",
       "      <td>False</td>\n",
       "      <td>False</td>\n",
       "      <td>False</td>\n",
       "      <td>False</td>\n",
       "    </tr>\n",
       "  </tbody>\n",
       "</table>\n",
       "</div>"
      ],
      "text/plain": [
       "    Date   Open   High    Low  Close  Volume  Turnover    P/E    P/B  \\\n",
       "0  False  False  False  False  False   False     False  False  False   \n",
       "1  False  False  False  False  False   False     False  False  False   \n",
       "2  False  False  False  False  False   False     False  False  False   \n",
       "3  False  False  False  False  False   False     False  False  False   \n",
       "4  False  False  False  False  False   False     False  False  False   \n",
       "\n",
       "   Div Yield  \n",
       "0      False  \n",
       "1      False  \n",
       "2      False  \n",
       "3      False  \n",
       "4      False  "
      ]
     },
     "execution_count": 73,
     "metadata": {},
     "output_type": "execute_result"
    }
   ],
   "source": [
    "#Rechecking the missing values in the columns\n",
    "missing_data = df_data.isnull()\n",
    "missing_data.head(5) "
   ]
  },
  {
   "cell_type": "code",
   "execution_count": 74,
   "metadata": {},
   "outputs": [
    {
     "name": "stdout",
     "output_type": "stream",
     "text": [
      "Date\n",
      "False    5061\n",
      "Name: Date, dtype: int64\n",
      "\n",
      "Open\n",
      "False    5061\n",
      "Name: Open, dtype: int64\n",
      "\n",
      "High\n",
      "False    5061\n",
      "Name: High, dtype: int64\n",
      "\n",
      "Low\n",
      "False    5061\n",
      "Name: Low, dtype: int64\n",
      "\n",
      "Close\n",
      "False    5061\n",
      "Name: Close, dtype: int64\n",
      "\n",
      "Volume\n",
      "False    5061\n",
      "Name: Volume, dtype: int64\n",
      "\n",
      "Turnover\n",
      "False    5061\n",
      "Name: Turnover, dtype: int64\n",
      "\n",
      "P/E\n",
      "False    5061\n",
      "Name: P/E, dtype: int64\n",
      "\n",
      "P/B\n",
      "False    5061\n",
      "Name: P/B, dtype: int64\n",
      "\n",
      "Div Yield\n",
      "False    5061\n",
      "Name: Div Yield, dtype: int64\n",
      "\n"
     ]
    }
   ],
   "source": [
    "for column in missing_data.columns.values.tolist():\n",
    "    print(column)\n",
    "    print (missing_data[column].value_counts())\n",
    "    print(\"\") \n",
    "    \n",
    "#So there is no missing values now"
   ]
  },
  {
   "cell_type": "code",
   "execution_count": 75,
   "metadata": {},
   "outputs": [
    {
     "data": {
      "text/plain": [
       "Date         datetime64[ns]\n",
       "Open                float64\n",
       "High                float64\n",
       "Low                 float64\n",
       "Close               float64\n",
       "Volume              float64\n",
       "Turnover            float64\n",
       "P/E                 float64\n",
       "P/B                 float64\n",
       "Div Yield           float64\n",
       "dtype: object"
      ]
     },
     "execution_count": 75,
     "metadata": {},
     "output_type": "execute_result"
    }
   ],
   "source": [
    "#converting the data type of datetime from object to timestamp\n",
    "df_data[\"Date\"]= pd.to_datetime(df_data[\"Date\"])\n",
    "df_data.dtypes"
   ]
  },
  {
   "cell_type": "code",
   "execution_count": 76,
   "metadata": {},
   "outputs": [],
   "source": [
    "#Adding a month column for monthwise analysis And column year for yearwise analysis\n",
    "df_data['month'] = df_data['Date'].dt.month\n",
    "df_data['year'] = df_data['Date'].dt.year"
   ]
  },
  {
   "cell_type": "code",
   "execution_count": 77,
   "metadata": {},
   "outputs": [
    {
     "data": {
      "text/html": [
       "<div>\n",
       "<style scoped>\n",
       "    .dataframe tbody tr th:only-of-type {\n",
       "        vertical-align: middle;\n",
       "    }\n",
       "\n",
       "    .dataframe tbody tr th {\n",
       "        vertical-align: top;\n",
       "    }\n",
       "\n",
       "    .dataframe thead th {\n",
       "        text-align: right;\n",
       "    }\n",
       "</style>\n",
       "<table border=\"1\" class=\"dataframe\">\n",
       "  <thead>\n",
       "    <tr style=\"text-align: right;\">\n",
       "      <th></th>\n",
       "      <th>Date</th>\n",
       "      <th>Open</th>\n",
       "      <th>High</th>\n",
       "      <th>Low</th>\n",
       "      <th>Close</th>\n",
       "      <th>Volume</th>\n",
       "      <th>Turnover</th>\n",
       "      <th>P/E</th>\n",
       "      <th>P/B</th>\n",
       "      <th>Div Yield</th>\n",
       "      <th>month</th>\n",
       "      <th>year</th>\n",
       "    </tr>\n",
       "  </thead>\n",
       "  <tbody>\n",
       "    <tr>\n",
       "      <th>0</th>\n",
       "      <td>2000-01-03</td>\n",
       "      <td>1482.15</td>\n",
       "      <td>1592.90</td>\n",
       "      <td>1482.15</td>\n",
       "      <td>1592.2</td>\n",
       "      <td>25358322.0</td>\n",
       "      <td>8.841500e+09</td>\n",
       "      <td>25.91</td>\n",
       "      <td>4.63</td>\n",
       "      <td>0.95</td>\n",
       "      <td>1</td>\n",
       "      <td>2000</td>\n",
       "    </tr>\n",
       "    <tr>\n",
       "      <th>1</th>\n",
       "      <td>2000-01-04</td>\n",
       "      <td>1594.40</td>\n",
       "      <td>1641.95</td>\n",
       "      <td>1594.40</td>\n",
       "      <td>1638.7</td>\n",
       "      <td>38787872.0</td>\n",
       "      <td>1.973690e+10</td>\n",
       "      <td>26.67</td>\n",
       "      <td>4.76</td>\n",
       "      <td>0.92</td>\n",
       "      <td>1</td>\n",
       "      <td>2000</td>\n",
       "    </tr>\n",
       "    <tr>\n",
       "      <th>2</th>\n",
       "      <td>2000-01-05</td>\n",
       "      <td>1634.55</td>\n",
       "      <td>1635.50</td>\n",
       "      <td>1555.05</td>\n",
       "      <td>1595.8</td>\n",
       "      <td>62153431.0</td>\n",
       "      <td>3.084790e+10</td>\n",
       "      <td>25.97</td>\n",
       "      <td>4.64</td>\n",
       "      <td>0.95</td>\n",
       "      <td>1</td>\n",
       "      <td>2000</td>\n",
       "    </tr>\n",
       "    <tr>\n",
       "      <th>3</th>\n",
       "      <td>2000-01-06</td>\n",
       "      <td>1595.80</td>\n",
       "      <td>1639.00</td>\n",
       "      <td>1595.80</td>\n",
       "      <td>1617.6</td>\n",
       "      <td>51272875.0</td>\n",
       "      <td>2.531180e+10</td>\n",
       "      <td>26.32</td>\n",
       "      <td>4.70</td>\n",
       "      <td>0.94</td>\n",
       "      <td>1</td>\n",
       "      <td>2000</td>\n",
       "    </tr>\n",
       "    <tr>\n",
       "      <th>4</th>\n",
       "      <td>2000-01-07</td>\n",
       "      <td>1616.60</td>\n",
       "      <td>1628.25</td>\n",
       "      <td>1597.20</td>\n",
       "      <td>1613.3</td>\n",
       "      <td>54315945.0</td>\n",
       "      <td>1.914630e+10</td>\n",
       "      <td>26.25</td>\n",
       "      <td>4.69</td>\n",
       "      <td>0.94</td>\n",
       "      <td>1</td>\n",
       "      <td>2000</td>\n",
       "    </tr>\n",
       "  </tbody>\n",
       "</table>\n",
       "</div>"
      ],
      "text/plain": [
       "        Date     Open     High      Low   Close      Volume      Turnover  \\\n",
       "0 2000-01-03  1482.15  1592.90  1482.15  1592.2  25358322.0  8.841500e+09   \n",
       "1 2000-01-04  1594.40  1641.95  1594.40  1638.7  38787872.0  1.973690e+10   \n",
       "2 2000-01-05  1634.55  1635.50  1555.05  1595.8  62153431.0  3.084790e+10   \n",
       "3 2000-01-06  1595.80  1639.00  1595.80  1617.6  51272875.0  2.531180e+10   \n",
       "4 2000-01-07  1616.60  1628.25  1597.20  1613.3  54315945.0  1.914630e+10   \n",
       "\n",
       "     P/E   P/B  Div Yield  month  year  \n",
       "0  25.91  4.63       0.95      1  2000  \n",
       "1  26.67  4.76       0.92      1  2000  \n",
       "2  25.97  4.64       0.95      1  2000  \n",
       "3  26.32  4.70       0.94      1  2000  \n",
       "4  26.25  4.69       0.94      1  2000  "
      ]
     },
     "execution_count": 77,
     "metadata": {},
     "output_type": "execute_result"
    }
   ],
   "source": [
    "df_data.head()"
   ]
  },
  {
   "cell_type": "code",
   "execution_count": 78,
   "metadata": {},
   "outputs": [
    {
     "name": "stdout",
     "output_type": "stream",
     "text": [
      "<class 'pandas.core.frame.DataFrame'>\n",
      "RangeIndex: 5061 entries, 0 to 5060\n",
      "Data columns (total 12 columns):\n",
      " #   Column     Non-Null Count  Dtype         \n",
      "---  ------     --------------  -----         \n",
      " 0   Date       5061 non-null   datetime64[ns]\n",
      " 1   Open       5061 non-null   float64       \n",
      " 2   High       5061 non-null   float64       \n",
      " 3   Low        5061 non-null   float64       \n",
      " 4   Close      5061 non-null   float64       \n",
      " 5   Volume     5061 non-null   float64       \n",
      " 6   Turnover   5061 non-null   float64       \n",
      " 7   P/E        5061 non-null   float64       \n",
      " 8   P/B        5061 non-null   float64       \n",
      " 9   Div Yield  5061 non-null   float64       \n",
      " 10  month      5061 non-null   int64         \n",
      " 11  year       5061 non-null   int64         \n",
      "dtypes: datetime64[ns](1), float64(9), int64(2)\n",
      "memory usage: 474.6 KB\n"
     ]
    }
   ],
   "source": [
    "df_data.info()"
   ]
  },
  {
   "cell_type": "code",
   "execution_count": 79,
   "metadata": {},
   "outputs": [
    {
     "data": {
      "text/html": [
       "<div>\n",
       "<style scoped>\n",
       "    .dataframe tbody tr th:only-of-type {\n",
       "        vertical-align: middle;\n",
       "    }\n",
       "\n",
       "    .dataframe tbody tr th {\n",
       "        vertical-align: top;\n",
       "    }\n",
       "\n",
       "    .dataframe thead th {\n",
       "        text-align: right;\n",
       "    }\n",
       "</style>\n",
       "<table border=\"1\" class=\"dataframe\">\n",
       "  <thead>\n",
       "    <tr style=\"text-align: right;\">\n",
       "      <th></th>\n",
       "      <th>Open</th>\n",
       "      <th>High</th>\n",
       "      <th>Low</th>\n",
       "      <th>Close</th>\n",
       "      <th>Volume</th>\n",
       "      <th>Turnover</th>\n",
       "      <th>P/E</th>\n",
       "      <th>P/B</th>\n",
       "      <th>Div Yield</th>\n",
       "      <th>month</th>\n",
       "      <th>year</th>\n",
       "    </tr>\n",
       "  </thead>\n",
       "  <tbody>\n",
       "    <tr>\n",
       "      <th>Open</th>\n",
       "      <td>1.000000</td>\n",
       "      <td>0.999907</td>\n",
       "      <td>0.999872</td>\n",
       "      <td>0.999806</td>\n",
       "      <td>0.630781</td>\n",
       "      <td>0.786228</td>\n",
       "      <td>0.779209</td>\n",
       "      <td>0.040235</td>\n",
       "      <td>-0.441034</td>\n",
       "      <td>0.009984</td>\n",
       "      <td>0.964209</td>\n",
       "    </tr>\n",
       "    <tr>\n",
       "      <th>High</th>\n",
       "      <td>0.999907</td>\n",
       "      <td>1.000000</td>\n",
       "      <td>0.999817</td>\n",
       "      <td>0.999906</td>\n",
       "      <td>0.633668</td>\n",
       "      <td>0.788951</td>\n",
       "      <td>0.779414</td>\n",
       "      <td>0.041780</td>\n",
       "      <td>-0.441819</td>\n",
       "      <td>0.009695</td>\n",
       "      <td>0.964528</td>\n",
       "    </tr>\n",
       "    <tr>\n",
       "      <th>Low</th>\n",
       "      <td>0.999872</td>\n",
       "      <td>0.999817</td>\n",
       "      <td>1.000000</td>\n",
       "      <td>0.999893</td>\n",
       "      <td>0.627235</td>\n",
       "      <td>0.783148</td>\n",
       "      <td>0.779686</td>\n",
       "      <td>0.039617</td>\n",
       "      <td>-0.440974</td>\n",
       "      <td>0.010616</td>\n",
       "      <td>0.963935</td>\n",
       "    </tr>\n",
       "    <tr>\n",
       "      <th>Close</th>\n",
       "      <td>0.999806</td>\n",
       "      <td>0.999906</td>\n",
       "      <td>0.999893</td>\n",
       "      <td>1.000000</td>\n",
       "      <td>0.630549</td>\n",
       "      <td>0.786192</td>\n",
       "      <td>0.779778</td>\n",
       "      <td>0.041100</td>\n",
       "      <td>-0.441622</td>\n",
       "      <td>0.010379</td>\n",
       "      <td>0.964263</td>\n",
       "    </tr>\n",
       "    <tr>\n",
       "      <th>Volume</th>\n",
       "      <td>0.630781</td>\n",
       "      <td>0.633668</td>\n",
       "      <td>0.627235</td>\n",
       "      <td>0.630549</td>\n",
       "      <td>1.000000</td>\n",
       "      <td>0.908835</td>\n",
       "      <td>0.443241</td>\n",
       "      <td>-0.127147</td>\n",
       "      <td>-0.147992</td>\n",
       "      <td>-0.010546</td>\n",
       "      <td>0.639633</td>\n",
       "    </tr>\n",
       "    <tr>\n",
       "      <th>Turnover</th>\n",
       "      <td>0.786228</td>\n",
       "      <td>0.788951</td>\n",
       "      <td>0.783148</td>\n",
       "      <td>0.786192</td>\n",
       "      <td>0.908835</td>\n",
       "      <td>1.000000</td>\n",
       "      <td>0.622710</td>\n",
       "      <td>-0.002736</td>\n",
       "      <td>-0.286845</td>\n",
       "      <td>-0.021521</td>\n",
       "      <td>0.760437</td>\n",
       "    </tr>\n",
       "    <tr>\n",
       "      <th>P/E</th>\n",
       "      <td>0.779209</td>\n",
       "      <td>0.779414</td>\n",
       "      <td>0.779686</td>\n",
       "      <td>0.779778</td>\n",
       "      <td>0.443241</td>\n",
       "      <td>0.622710</td>\n",
       "      <td>1.000000</td>\n",
       "      <td>0.434942</td>\n",
       "      <td>-0.703850</td>\n",
       "      <td>-0.034530</td>\n",
       "      <td>0.625012</td>\n",
       "    </tr>\n",
       "    <tr>\n",
       "      <th>P/B</th>\n",
       "      <td>0.040235</td>\n",
       "      <td>0.041780</td>\n",
       "      <td>0.039617</td>\n",
       "      <td>0.041100</td>\n",
       "      <td>-0.127147</td>\n",
       "      <td>-0.002736</td>\n",
       "      <td>0.434942</td>\n",
       "      <td>1.000000</td>\n",
       "      <td>-0.539224</td>\n",
       "      <td>-0.060146</td>\n",
       "      <td>-0.111238</td>\n",
       "    </tr>\n",
       "    <tr>\n",
       "      <th>Div Yield</th>\n",
       "      <td>-0.441034</td>\n",
       "      <td>-0.441819</td>\n",
       "      <td>-0.440974</td>\n",
       "      <td>-0.441622</td>\n",
       "      <td>-0.147992</td>\n",
       "      <td>-0.286845</td>\n",
       "      <td>-0.703850</td>\n",
       "      <td>-0.539224</td>\n",
       "      <td>1.000000</td>\n",
       "      <td>0.031973</td>\n",
       "      <td>-0.320718</td>\n",
       "    </tr>\n",
       "    <tr>\n",
       "      <th>month</th>\n",
       "      <td>0.009984</td>\n",
       "      <td>0.009695</td>\n",
       "      <td>0.010616</td>\n",
       "      <td>0.010379</td>\n",
       "      <td>-0.010546</td>\n",
       "      <td>-0.021521</td>\n",
       "      <td>-0.034530</td>\n",
       "      <td>-0.060146</td>\n",
       "      <td>0.031973</td>\n",
       "      <td>1.000000</td>\n",
       "      <td>-0.037187</td>\n",
       "    </tr>\n",
       "    <tr>\n",
       "      <th>year</th>\n",
       "      <td>0.964209</td>\n",
       "      <td>0.964528</td>\n",
       "      <td>0.963935</td>\n",
       "      <td>0.964263</td>\n",
       "      <td>0.639633</td>\n",
       "      <td>0.760437</td>\n",
       "      <td>0.625012</td>\n",
       "      <td>-0.111238</td>\n",
       "      <td>-0.320718</td>\n",
       "      <td>-0.037187</td>\n",
       "      <td>1.000000</td>\n",
       "    </tr>\n",
       "  </tbody>\n",
       "</table>\n",
       "</div>"
      ],
      "text/plain": [
       "               Open      High       Low     Close    Volume  Turnover  \\\n",
       "Open       1.000000  0.999907  0.999872  0.999806  0.630781  0.786228   \n",
       "High       0.999907  1.000000  0.999817  0.999906  0.633668  0.788951   \n",
       "Low        0.999872  0.999817  1.000000  0.999893  0.627235  0.783148   \n",
       "Close      0.999806  0.999906  0.999893  1.000000  0.630549  0.786192   \n",
       "Volume     0.630781  0.633668  0.627235  0.630549  1.000000  0.908835   \n",
       "Turnover   0.786228  0.788951  0.783148  0.786192  0.908835  1.000000   \n",
       "P/E        0.779209  0.779414  0.779686  0.779778  0.443241  0.622710   \n",
       "P/B        0.040235  0.041780  0.039617  0.041100 -0.127147 -0.002736   \n",
       "Div Yield -0.441034 -0.441819 -0.440974 -0.441622 -0.147992 -0.286845   \n",
       "month      0.009984  0.009695  0.010616  0.010379 -0.010546 -0.021521   \n",
       "year       0.964209  0.964528  0.963935  0.964263  0.639633  0.760437   \n",
       "\n",
       "                P/E       P/B  Div Yield     month      year  \n",
       "Open       0.779209  0.040235  -0.441034  0.009984  0.964209  \n",
       "High       0.779414  0.041780  -0.441819  0.009695  0.964528  \n",
       "Low        0.779686  0.039617  -0.440974  0.010616  0.963935  \n",
       "Close      0.779778  0.041100  -0.441622  0.010379  0.964263  \n",
       "Volume     0.443241 -0.127147  -0.147992 -0.010546  0.639633  \n",
       "Turnover   0.622710 -0.002736  -0.286845 -0.021521  0.760437  \n",
       "P/E        1.000000  0.434942  -0.703850 -0.034530  0.625012  \n",
       "P/B        0.434942  1.000000  -0.539224 -0.060146 -0.111238  \n",
       "Div Yield -0.703850 -0.539224   1.000000  0.031973 -0.320718  \n",
       "month     -0.034530 -0.060146   0.031973  1.000000 -0.037187  \n",
       "year       0.625012 -0.111238  -0.320718 -0.037187  1.000000  "
      ]
     },
     "execution_count": 79,
     "metadata": {},
     "output_type": "execute_result"
    }
   ],
   "source": [
    "#Now lets view the correlation between all the columns\n",
    "df_data.corr()"
   ]
  },
  {
   "cell_type": "code",
   "execution_count": 80,
   "metadata": {},
   "outputs": [],
   "source": [
    "# Importing all the Vizualization libraries\n",
    "import numpy as np\n",
    "import pandas as pd\n",
    "import seaborn as sns\n",
    "%matplotlib inline\n",
    "import matplotlib as plt\n",
    "from matplotlib import pyplot\n",
    "import matplotlib.pyplot as plt\n",
    "import seaborn as sns\n",
    "%matplotlib inline\n",
    "sns.set_style(\"darkgrid\")"
   ]
  },
  {
   "cell_type": "code",
   "execution_count": 81,
   "metadata": {},
   "outputs": [
    {
     "data": {
      "text/html": [
       "<div>\n",
       "<style scoped>\n",
       "    .dataframe tbody tr th:only-of-type {\n",
       "        vertical-align: middle;\n",
       "    }\n",
       "\n",
       "    .dataframe tbody tr th {\n",
       "        vertical-align: top;\n",
       "    }\n",
       "\n",
       "    .dataframe thead th {\n",
       "        text-align: right;\n",
       "    }\n",
       "</style>\n",
       "<table border=\"1\" class=\"dataframe\">\n",
       "  <thead>\n",
       "    <tr style=\"text-align: right;\">\n",
       "      <th></th>\n",
       "      <th>Volume</th>\n",
       "      <th>Turnover</th>\n",
       "    </tr>\n",
       "  </thead>\n",
       "  <tbody>\n",
       "    <tr>\n",
       "      <th>Volume</th>\n",
       "      <td>1.000000</td>\n",
       "      <td>0.908835</td>\n",
       "    </tr>\n",
       "    <tr>\n",
       "      <th>Turnover</th>\n",
       "      <td>0.908835</td>\n",
       "      <td>1.000000</td>\n",
       "    </tr>\n",
       "  </tbody>\n",
       "</table>\n",
       "</div>"
      ],
      "text/plain": [
       "            Volume  Turnover\n",
       "Volume    1.000000  0.908835\n",
       "Turnover  0.908835  1.000000"
      ]
     },
     "execution_count": 81,
     "metadata": {},
     "output_type": "execute_result"
    }
   ],
   "source": [
    "# We can view a positive relation between volume and turnover \n",
    "df_data[[\"Volume\", \"Turnover\"]].corr()"
   ]
  },
  {
   "cell_type": "code",
   "execution_count": 82,
   "metadata": {},
   "outputs": [
    {
     "data": {
      "text/plain": [
       "(0.0, 745988236986.5516)"
      ]
     },
     "execution_count": 82,
     "metadata": {},
     "output_type": "execute_result"
    },
    {
     "data": {
      "image/png": "[encoded data removed]",
      "text/plain": [
       "<Figure size 432x288 with 1 Axes>"
      ]
     },
     "metadata": {},
     "output_type": "display_data"
    }
   ],
   "source": [
    "# So we can view this in regression relation plot\n",
    "sns.regplot(x=\"Volume\", y=\"Turnover\",color='green', data=df_data,truncate=False)\n",
    "plt.ylim(0,)"
   ]
  },
  {
   "cell_type": "code",
   "execution_count": 83,
   "metadata": {},
   "outputs": [
    {
     "data": {
      "text/html": [
       "<div>\n",
       "<style scoped>\n",
       "    .dataframe tbody tr th:only-of-type {\n",
       "        vertical-align: middle;\n",
       "    }\n",
       "\n",
       "    .dataframe tbody tr th {\n",
       "        vertical-align: top;\n",
       "    }\n",
       "\n",
       "    .dataframe thead th {\n",
       "        text-align: right;\n",
       "    }\n",
       "</style>\n",
       "<table border=\"1\" class=\"dataframe\">\n",
       "  <thead>\n",
       "    <tr style=\"text-align: right;\">\n",
       "      <th></th>\n",
       "      <th>Volume</th>\n",
       "      <th>Div Yield</th>\n",
       "    </tr>\n",
       "  </thead>\n",
       "  <tbody>\n",
       "    <tr>\n",
       "      <th>Volume</th>\n",
       "      <td>1.000000</td>\n",
       "      <td>-0.147992</td>\n",
       "    </tr>\n",
       "    <tr>\n",
       "      <th>Div Yield</th>\n",
       "      <td>-0.147992</td>\n",
       "      <td>1.000000</td>\n",
       "    </tr>\n",
       "  </tbody>\n",
       "</table>\n",
       "</div>"
      ],
      "text/plain": [
       "             Volume  Div Yield\n",
       "Volume     1.000000  -0.147992\n",
       "Div Yield -0.147992   1.000000"
      ]
     },
     "execution_count": 83,
     "metadata": {},
     "output_type": "execute_result"
    }
   ],
   "source": [
    "# We can view a negative relation between volume and turnover \n",
    "df_data[[\"Volume\", \"Div Yield\"]].corr()"
   ]
  },
  {
   "cell_type": "code",
   "execution_count": 84,
   "metadata": {},
   "outputs": [
    {
     "data": {
      "text/plain": [
       "(0.0, 3.3114529743850154)"
      ]
     },
     "execution_count": 84,
     "metadata": {},
     "output_type": "execute_result"
    },
    {
     "data": {
      "image/png": "[encoded data removed]",
      "text/plain": [
       "<Figure size 432x288 with 1 Axes>"
      ]
     },
     "metadata": {},
     "output_type": "display_data"
    }
   ],
   "source": [
    "sns.regplot(x=\"Volume\", y=\"Div Yield\", color='r',data=df_data,truncate=False)\n",
    "plt.ylim(0,)"
   ]
  },
  {
   "cell_type": "code",
   "execution_count": 85,
   "metadata": {},
   "outputs": [
    {
     "data": {
      "text/html": [
       "<div>\n",
       "<style scoped>\n",
       "    .dataframe tbody tr th:only-of-type {\n",
       "        vertical-align: middle;\n",
       "    }\n",
       "\n",
       "    .dataframe tbody tr th {\n",
       "        vertical-align: top;\n",
       "    }\n",
       "\n",
       "    .dataframe thead th {\n",
       "        text-align: right;\n",
       "    }\n",
       "</style>\n",
       "<table border=\"1\" class=\"dataframe\">\n",
       "  <thead>\n",
       "    <tr style=\"text-align: right;\">\n",
       "      <th></th>\n",
       "      <th>Date</th>\n",
       "      <th>Open</th>\n",
       "      <th>High</th>\n",
       "      <th>Low</th>\n",
       "      <th>Close</th>\n",
       "    </tr>\n",
       "  </thead>\n",
       "  <tbody>\n",
       "    <tr>\n",
       "      <th>0</th>\n",
       "      <td>2000-01-03</td>\n",
       "      <td>1482.15</td>\n",
       "      <td>1592.90</td>\n",
       "      <td>1482.15</td>\n",
       "      <td>1592.2</td>\n",
       "    </tr>\n",
       "    <tr>\n",
       "      <th>1</th>\n",
       "      <td>2000-01-04</td>\n",
       "      <td>1594.40</td>\n",
       "      <td>1641.95</td>\n",
       "      <td>1594.40</td>\n",
       "      <td>1638.7</td>\n",
       "    </tr>\n",
       "    <tr>\n",
       "      <th>2</th>\n",
       "      <td>2000-01-05</td>\n",
       "      <td>1634.55</td>\n",
       "      <td>1635.50</td>\n",
       "      <td>1555.05</td>\n",
       "      <td>1595.8</td>\n",
       "    </tr>\n",
       "    <tr>\n",
       "      <th>3</th>\n",
       "      <td>2000-01-06</td>\n",
       "      <td>1595.80</td>\n",
       "      <td>1639.00</td>\n",
       "      <td>1595.80</td>\n",
       "      <td>1617.6</td>\n",
       "    </tr>\n",
       "    <tr>\n",
       "      <th>4</th>\n",
       "      <td>2000-01-07</td>\n",
       "      <td>1616.60</td>\n",
       "      <td>1628.25</td>\n",
       "      <td>1597.20</td>\n",
       "      <td>1613.3</td>\n",
       "    </tr>\n",
       "  </tbody>\n",
       "</table>\n",
       "</div>"
      ],
      "text/plain": [
       "        Date     Open     High      Low   Close\n",
       "0 2000-01-03  1482.15  1592.90  1482.15  1592.2\n",
       "1 2000-01-04  1594.40  1641.95  1594.40  1638.7\n",
       "2 2000-01-05  1634.55  1635.50  1555.05  1595.8\n",
       "3 2000-01-06  1595.80  1639.00  1595.80  1617.6\n",
       "4 2000-01-07  1616.60  1628.25  1597.20  1613.3"
      ]
     },
     "execution_count": 85,
     "metadata": {},
     "output_type": "execute_result"
    }
   ],
   "source": [
    "df_ohlc=df_data[['Date','Open', 'High','Low', 'Close']]\n",
    "df_ohlc.head()\n",
    "#import seaborn as sns; sns.set(style=\"ticks\", color_codes=True)"
   ]
  },
  {
   "cell_type": "code",
   "execution_count": 96,
   "metadata": {},
   "outputs": [
    {
     "data": {
      "image/png": "[encoded data removed]",
      "text/plain": [
       "<Figure size 720x720 with 20 Axes>"
      ]
     },
     "metadata": {},
     "output_type": "display_data"
    }
   ],
   "source": [
    "import seaborn as sns; sns.set(style=\"ticks\", color_codes=True)\n",
    "g = sns.pairplot(df_ohlc)"
   ]
  },
  {
   "cell_type": "code",
   "execution_count": 95,
   "metadata": {},
   "outputs": [
    {
     "data": {
      "text/plain": [
       "<matplotlib.axes._subplots.AxesSubplot at 0x1b43971eb20>"
      ]
     },
     "execution_count": 95,
     "metadata": {},
     "output_type": "execute_result"
    },
    {
     "data": {
      "image/png": "[encoded data removed]",
      "text/plain": [
       "<Figure size 720x432 with 1 Axes>"
      ]
     },
     "metadata": {},
     "output_type": "display_data"
    }
   ],
   "source": [
    "sns.set_style(\"darkgrid\")\n",
    "plt.figure(figsize=(10,6))\n",
    "#sns.barplot(x='abbr', y='views', data=pop_talks)\n",
    "sns.barplot(x='month', y='Volume', data=df_data)"
   ]
  },
  {
   "cell_type": "code",
   "execution_count": 88,
   "metadata": {},
   "outputs": [
    {
     "data": {
      "image/png": "[encoded data removed]",
      "text/plain": [
       "<Figure size 432x288 with 1 Axes>"
      ]
     },
     "metadata": {},
     "output_type": "display_data"
    }
   ],
   "source": [
    "ax = sns.lineplot(x=\"Date\", y=\"P/E\", data=df_data)"
   ]
  },
  {
   "cell_type": "code",
   "execution_count": 93,
   "metadata": {},
   "outputs": [],
   "source": [
    "month_df = pd.DataFrame(df_data['month'].value_counts()).reset_index()\n",
    "month_df.columns = ['month', 'Volume']"
   ]
  },
  {
   "cell_type": "code",
   "execution_count": 94,
   "metadata": {},
   "outputs": [
    {
     "data": {
      "text/plain": [
       "<matplotlib.axes._subplots.AxesSubplot at 0x1b437a6cb20>"
      ]
     },
     "execution_count": 94,
     "metadata": {},
     "output_type": "execute_result"
    },
    {
     "data": {
      "image/png": "[encoded data removed]",
      "text/plain": [
       "<Figure size 720x432 with 1 Axes>"
      ]
     },
     "metadata": {},
     "output_type": "display_data"
    }
   ],
   "source": [
    "sns.set_style(\"darkgrid\")\n",
    "plt.figure(figsize=(10,6))\n",
    "#sns.barplot(x='abbr', y='views', data=pop_talks)\n",
    "sns.barplot(x='month', y='Volume', data=month_df)"
   ]
  },
  {
   "cell_type": "code",
   "execution_count": null,
   "metadata": {},
   "outputs": [],
   "source": []
  }
 ],
 "metadata": {
  "kernelspec": {
   "display_name": "Python 3",
   "language": "python",
   "name": "python3"
  },
  "language_info": {
   "codemirror_mode": {
    "name": "ipython",
    "version": 3
   },
   "file_extension": ".py",
   "mimetype": "text/x-python",
   "name": "python",
   "nbconvert_exporter": "python",
   "pygments_lexer": "ipython3",
   "version": "3.8.2"
  }
 },
 "nbformat": 4,
 "nbformat_minor": 4
}
